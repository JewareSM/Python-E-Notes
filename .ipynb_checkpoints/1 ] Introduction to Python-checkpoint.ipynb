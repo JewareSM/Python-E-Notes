{
 "cells": [
  {
   "cell_type": "markdown",
   "id": "053eaf3a",
   "metadata": {},
   "source": [
    "## Introduction to Python"
   ]
  },
  {
   "cell_type": "code",
   "execution_count": null,
   "id": "b921742b",
   "metadata": {},
   "outputs": [],
   "source": [
    "Python is an easy-to-learn and a powerful Object-Oriented Programming language. \n",
    "It is a very high-level programming language."
   ]
  },
  {
   "cell_type": "markdown",
   "id": "dd7a5d16",
   "metadata": {},
   "source": []
  },
  {
   "cell_type": "markdown",
   "id": "367fec17",
   "metadata": {},
   "source": [
    "### Why Python?\n"
   ]
  },
  {
   "cell_type": "code",
   "execution_count": null,
   "id": "d4692244",
   "metadata": {},
   "outputs": [],
   "source": [
    "1. Easy to Use: Python is comparatively an easier-to-use language as compared to other programming languages.\n",
    "    \n",
    "2. Expressive Language: The syntax of Python is closer to how you would write pseudocode.\n",
    "   Which makes it capable of expressing the code’s purpose better than many other languages.\n",
    "    \n",
    "3. Interpreted Language: Python is an interpreted language; this means that the Python installation interprets and executes the code a line-at-a-time.\n"
   ]
  },
  {
   "cell_type": "markdown",
   "id": "00913ec6",
   "metadata": {},
   "source": []
  },
  {
   "cell_type": "markdown",
   "id": "ae293244",
   "metadata": {},
   "source": [
    "## Python Download"
   ]
  },
  {
   "cell_type": "code",
   "execution_count": null,
   "id": "b3bcbd33",
   "metadata": {},
   "outputs": [],
   "source": [
    "The very first step towards Python Programming would be to download the tools required to run the Python language.\n",
    "\n",
    "You can download the latest version of Python 3 from https://www.python.org/downloads/\n",
    "    \n",
    "Note:- If you are using Windows OS, then while installing Python make sure that “Add Python to PATH“ is checked.\n",
    "    \n",
    "Getting an IDE for writing programs: You can use any IDE of your choice, however, you are recommended to use Jupyter Notebook. \n",
    "You can download it from https://jupyter.org/install"
   ]
  },
  {
   "cell_type": "markdown",
   "id": "8855273a",
   "metadata": {},
   "source": []
  },
  {
   "cell_type": "markdown",
   "id": "199b0cd7",
   "metadata": {},
   "source": [
    "### Working in Python"
   ]
  },
  {
   "cell_type": "code",
   "execution_count": null,
   "id": "70ef61cf",
   "metadata": {},
   "outputs": [],
   "source": [
    "Once you have Python installed on your system, you are ready to work on it.\n",
    "\n",
    "You can work in Python in two different modes:-\n",
    "    \n",
    "a) Interactive Mode: In this mode, you type one command at a time and Python executes the same. \n",
    "   Python’s interactive interpreter is also called Python Shell.\n",
    "\n",
    "b) Script Mode: In this mode, we save all our commands in the form of a program file and later run the entire script. \n",
    "   After running the script, the whole program gets compiled and you’ll see the overall output."
   ]
  },
  {
   "cell_type": "markdown",
   "id": "9fa14fea",
   "metadata": {},
   "source": []
  },
  {
   "cell_type": "markdown",
   "id": "9dc3c39b",
   "metadata": {},
   "source": [
    "## First Program in Python\n"
   ]
  },
  {
   "cell_type": "code",
   "execution_count": null,
   "id": "3cc83dc2",
   "metadata": {},
   "outputs": [],
   "source": [
    "As we are just getting started with Python, we will start with the most fundamental program which would involve printing a standard output to the console.\n",
    "\n",
    "The print() function is a way to print to the standard output. \n",
    "\n",
    "The syntax to use print() function is as follows:-\n",
    "    \n",
    "    print(<Objects>)\n",
    "    \n",
    "    ● <Objects> means that it can be one or more comma-separated 'Objects' to be printed.\n",
    "    ● <Objects> must be enclosed within parentheses.\n",
    "    \n",
    "    \n",
    "Example: If we want to print “Hello, World!” in our code, we will write it in the following way:-    "
   ]
  },
  {
   "cell_type": "code",
   "execution_count": 2,
   "id": "98899832",
   "metadata": {},
   "outputs": [
    {
     "name": "stdout",
     "output_type": "stream",
     "text": [
      "Hello World...\n"
     ]
    }
   ],
   "source": [
    "print(\"Hello World...\")"
   ]
  },
  {
   "cell_type": "code",
   "execution_count": null,
   "id": "0fd78450",
   "metadata": {},
   "outputs": [],
   "source": [
    "and, we get the output as: Hello, World!\n",
    "    \n",
    "Python executed the first line by calling the print() function. \n",
    "The string value of Hello, World! was passed to the function.\n",
    "\n",
    "Note:- The quotes that are on either side of Hello, World! were not printed to the screen because they are used to tell Python that they contain a string. \n",
    "       The quotation marks delineate where the string begins and ends.\n"
   ]
  },
  {
   "cell_type": "code",
   "execution_count": null,
   "id": "624e537f",
   "metadata": {},
   "outputs": [],
   "source": [
    "Complete Syntax of print() function:-\n",
    "    \n",
    "    print(object(s), sep=separator, end=end, file=file, flush=flush)\n",
    "    \n",
    "    \n",
    "       Parameter            \t           Description\n",
    "    \n",
    "       a) object(s)         \t           Any object, and as many as you like. Will be converted to string before printed\n",
    "    \n",
    "       b) sep='separator'   \t           Optional. Specify how to separate the objects, if there is more than one. Default is ' ' \n",
    "    \n",
    "       c) end='end'         \t           Optional. Specify what to print at the end. Default is '\\n' (line feed)\n",
    "    \n",
    "       d) file              \t           Optional. An object with a write method. Default is sys.stdout\n",
    "    \n",
    "       e) flush             \t           Optional. A Boolean, specifying if the output is flushed (True) or buffered (False). Default is False\n"
   ]
  },
  {
   "cell_type": "markdown",
   "id": "76958287",
   "metadata": {},
   "source": []
  },
  {
   "cell_type": "markdown",
   "id": "b2a1dd88",
   "metadata": {},
   "source": [
    "## Variables in Python"
   ]
  },
  {
   "cell_type": "markdown",
   "id": "2ddd0bbc",
   "metadata": {},
   "source": [
    "#### What are Variables?"
   ]
  },
  {
   "cell_type": "code",
   "execution_count": null,
   "id": "da8454e4",
   "metadata": {},
   "outputs": [],
   "source": [
    "A variable in Python represents a named location that refers to value and whose values can be used and processed during the program run. \n",
    "In other words, variables are labels/names to which we can assign value and use them as a reference to that value throughout the code.\n",
    "\n",
    "Variables are fundamental to programming for two reasons:\n",
    "    \n",
    "    ● Variables keep values accessible: For example, The result of a time-consuming operation can be assigned to a variable, so that the operation need not be\n",
    "      performed each time we need the result.\n",
    "    \n",
    "    ● Variables give values context: For example, The number 56 could mean lots of different things, such as the number of students in a class, or the average weight of\n",
    "      all students in the class. \n",
    "    \n",
    "      Assigning the number 56 to a variable with a name like num_students would make more sense, to distinguish it from another variable\n",
    "      average_weight, which would refer to the average weight of the students. \n",
    "      This way we can have different variables pointing to different values."
   ]
  },
  {
   "cell_type": "markdown",
   "id": "81ac81b2",
   "metadata": {},
   "source": [
    "#### How are Values Assigned to A Variable?"
   ]
  },
  {
   "cell_type": "code",
   "execution_count": null,
   "id": "6f22f47e",
   "metadata": {},
   "outputs": [],
   "source": [
    "Values are assigned to a variable using a special symbol “=”, called the assignment operator. \n",
    "An operator is a symbol, like = or +, that performs some operation on one or more values. \n",
    "\n",
    "For example:-\n",
    "    The “+” operator takes two numbers, one to the left of the operator and one to the right, and adds them together. \n",
    "    Likewise, the “=” operator takes a value to the right of the operator and assigns it to the name/label/variable on the left of the operator.\n",
    "    \n",
    "    \n",
    "For Example: \n",
    "    Now let us create a variable namely Student to hold a student’s name and a variable Age to hold a student’s age.\n"
   ]
  },
  {
   "cell_type": "code",
   "execution_count": null,
   "id": "cab10647",
   "metadata": {},
   "outputs": [],
   "source": [
    "Student = \"Jacob\"\n",
    "Age = 19"
   ]
  },
  {
   "attachments": {
    "Screenshot%20%2830%29.png": {
     "image/png": "[encoded data removed]"
    }
   },
   "cell_type": "markdown",
   "id": "e69163bd",
   "metadata": {},
   "source": [
    "Python will internally create labels referring to these values as shown below :\n",
    "\n",
    "\n",
    "![Screenshot%20%2830%29.png](attachment:Screenshot%20%2830%29.png)"
   ]
  },
  {
   "cell_type": "markdown",
   "id": "0eb36e3d",
   "metadata": {},
   "source": [
    "#### Naming a Variable\n"
   ]
  },
  {
   "cell_type": "code",
   "execution_count": null,
   "id": "724d17c1",
   "metadata": {},
   "outputs": [],
   "source": [
    "You must keep the following points in your mind while naming a variable:-\n",
    "    \n",
    "    ● Variable names can contain letters, numbers, and underscores.\n",
    "    ● They cannot contain spaces.\n",
    "    ● Variable names cannot start with a number.\n",
    "    ● Variable names are case sensitive. \n",
    "    \n",
    "      For example:- \n",
    "            The variable names Temp and temp are different.\n",
    "        \n",
    "    ● While writing a program, creating self-explanatory variable names help a lot in increasing the readability of the code. \n",
    "      However, too long names can clutter up the program and make it difficult to read."
   ]
  },
  {
   "cell_type": "code",
   "execution_count": null,
   "id": "97547838",
   "metadata": {},
   "outputs": [],
   "source": []
  },
  {
   "cell_type": "markdown",
   "id": "bbfc8994",
   "metadata": {},
   "source": []
  },
  {
   "cell_type": "markdown",
   "id": "f9ad53ed",
   "metadata": {},
   "source": [
    "## Data Types"
   ]
  },
  {
   "cell_type": "markdown",
   "id": "461f1051",
   "metadata": {},
   "source": [
    "#### Introduction"
   ]
  },
  {
   "cell_type": "code",
   "execution_count": null,
   "id": "8a346709",
   "metadata": {},
   "outputs": [],
   "source": [
    "Data types are the classification or categorization of data items. \n",
    "Data types represent a kind of value that determines what operations can be performed on that data.\n",
    "Numeric, non-numeric, and Boolean (true/false) data are the most used data types. \n",
    "However, each programming language has its classification largely reflecting its programming philosophy. \n",
    "\n",
    "Python offers the following built-in data types:\n",
    "    \n",
    "    ● Numbers:\n",
    "        ○ Integers\n",
    "        ○ Floating Point Numbers\n",
    "        ○ Complex Numbers\n",
    "    ● Strings\n",
    "    ● Boolean Values\n",
    "    ● List, Tuple, and Dictionary ( To be covered later in the course )\n",
    "    \n",
    "\n",
    "Type Code   \t           Description              \t          Default Size (In Bytes)\n",
    "a) int      \t           Integers                 \t                     4\n",
    "b) float    \t           Floating Point Numbers   \t                     4\n",
    "c) bool     \t           Boolean Values           \t                     1    \n",
    "\n",
    "\n",
    "Note:- If a variable has been assigned a value of some data type. \n",
    "       It can be reassigned a value belonging to some other Data Type in the future."
   ]
  },
  {
   "cell_type": "code",
   "execution_count": null,
   "id": "2b4ba1cf",
   "metadata": {},
   "outputs": [],
   "source": [
    "a= \"Raw\"          # String Data Type\n",
    "a= 10            # Integer Data Type\n",
    "a= 5.6          # Floating Point Number Data Type\n",
    "a= 1+8j        # Complex Number\n",
    "a= True       # Boolean Value"
   ]
  },
  {
   "cell_type": "markdown",
   "id": "421f8161",
   "metadata": {},
   "source": []
  },
  {
   "cell_type": "markdown",
   "id": "946d222d",
   "metadata": {},
   "source": [
    "## Python Numbers"
   ]
  },
  {
   "cell_type": "markdown",
   "id": "9d334b24",
   "metadata": {},
   "source": [
    "#### Introduction"
   ]
  },
  {
   "cell_type": "code",
   "execution_count": null,
   "id": "ced85010",
   "metadata": {},
   "outputs": [],
   "source": [
    "Number data types store numerical values. Python supports Integers, floating-point numbers, and complex numbers. \n",
    "They are defined as int, float, and complex classes.\n",
    "\n",
    "● Integers can be of any length (Only limited by the memory available). \n",
    "  They do not have a decimal point and can be positive or negative.\n",
    "    \n",
    "● A floating-point number is a number having a fractional part. \n",
    "  The presence of a decimal point indicates a floating-point number. \n",
    "  They have a precision of up to 15 digits.\n",
    "\n",
    "● 1 is an integer, 1.0 is a floating-point number.\n",
    "● Complex numbers are of the form, x + yj, where x is the real part and y is the imaginary part.\n",
    "\n",
    "We can use the type() function to know which class a variable or a value belongs to.\n",
    "Similarly, the isinstance() function is used to check if an object belongs to a particular class.\n",
    "\n",
    "Here are a few examples:-\n"
   ]
  },
  {
   "cell_type": "code",
   "execution_count": 5,
   "id": "7ee9a339",
   "metadata": {},
   "outputs": [
    {
     "name": "stdout",
     "output_type": "stream",
     "text": [
      "5 is of type <class 'int'>\n",
      "2.0 is of type <class 'float'>\n",
      "(1+2j) is complex number? True\n"
     ]
    }
   ],
   "source": [
    "b = 5\n",
    "print(b, \"is of type\", type(b))\n",
    "\n",
    "b = 2.0\n",
    "print(b, \"is of type\", type(b))\n",
    "\n",
    "b = 1+2j\n",
    "print(b, \"is complex number?\", isinstance(b,complex))"
   ]
  },
  {
   "cell_type": "code",
   "execution_count": null,
   "id": "1098bcbf",
   "metadata": {},
   "outputs": [],
   "source": []
  },
  {
   "cell_type": "markdown",
   "id": "0fef9ba2",
   "metadata": {},
   "source": [
    "## Arithmetic Operators in Python"
   ]
  },
  {
   "cell_type": "code",
   "execution_count": null,
   "id": "62ea397f",
   "metadata": {},
   "outputs": [],
   "source": [
    "The Arithmetic Operators are used in Python in the same way as they are used in Mathematics.\n",
    "\n",
    "OPERATOR    \t                     DESCRIPTION\n",
    "a) +        \t                     Add two operands\n",
    "b) -        \t                     Subtracts second operand from the first\n",
    "c) *        \t                     Multiplies two operands\n",
    "d) /        \t                     Divides numerator by denominator (Floating Point Division)\n",
    "e) //       \t                     Divides numerator by denominator (Floor Division) - Acts as a floor function\n",
    "f) **       \t                     Exponent Operator- The first operand raised to the power of the second operand\n",
    "g) %        \t                     Modulo Operator- Calculates remainder left after dividing first by second\n",
    "\n",
    "\n",
    "Let us see how these operators work:-"
   ]
  },
  {
   "cell_type": "code",
   "execution_count": 1,
   "id": "b0a72b8e",
   "metadata": {},
   "outputs": [
    {
     "name": "stdout",
     "output_type": "stream",
     "text": [
      "7\n",
      "3\n",
      "10\n",
      "2.5\n",
      "2\n",
      "25\n",
      "1\n"
     ]
    }
   ],
   "source": [
    "print(5 + 2)                       # Addition\n",
    "print(5 - 2)                      # Subtraction\n",
    "print(5 * 2)                     # Multiplication\n",
    "print(5 / 2)                    # Floating Point Division\n",
    "print(5 // 2)                  # Floor Division\n",
    "print(5 ** 2)                 # Calculate Exponent\n",
    "print(5 % 2)                 # Modulus\n"
   ]
  },
  {
   "cell_type": "markdown",
   "id": "06631ec4",
   "metadata": {},
   "source": []
  },
  {
   "cell_type": "markdown",
   "id": "1c1bc3ce",
   "metadata": {},
   "source": [
    "## Taking User Input"
   ]
  },
  {
   "cell_type": "code",
   "execution_count": null,
   "id": "10e9ecac",
   "metadata": {},
   "outputs": [],
   "source": [
    "Developers often need to interact with users, either to get data or to provide some sort of result.\n"
   ]
  },
  {
   "cell_type": "markdown",
   "id": "e1b42486",
   "metadata": {},
   "source": [
    "#### How to take User Input?"
   ]
  },
  {
   "cell_type": "code",
   "execution_count": null,
   "id": "dd24e10e",
   "metadata": {},
   "outputs": [],
   "source": [
    "To get the input from the user interactively, we can use the built-in function, input().\n",
    "\n",
    "This function is used in the following manner:\n",
    "    variable_to_hold_the_input_value = input(<Prompt to be displayed>)\n",
    "    \n",
    "For example:\n",
    "    "
   ]
  },
  {
   "cell_type": "code",
   "execution_count": 1,
   "id": "f90db20d",
   "metadata": {},
   "outputs": [
    {
     "name": "stdout",
     "output_type": "stream",
     "text": [
      "What is your age? 25\n"
     ]
    }
   ],
   "source": [
    "age = input(\"What is your age? \")\n"
   ]
  },
  {
   "cell_type": "code",
   "execution_count": null,
   "id": "8b1da46f",
   "metadata": {},
   "outputs": [],
   "source": [
    "We will get the following interactive output:"
   ]
  },
  {
   "cell_type": "code",
   "execution_count": 1,
   "id": "3019c069",
   "metadata": {},
   "outputs": [
    {
     "name": "stdout",
     "output_type": "stream",
     "text": [
      "Enter your name : Shubham \n",
      "Enter your age : 25\n"
     ]
    }
   ],
   "source": [
    "name = input(\"Enter your name : \")\n",
    "age = input(\"Enter your age : \")"
   ]
  },
  {
   "cell_type": "code",
   "execution_count": null,
   "id": "ab5beaa8",
   "metadata": {},
   "outputs": [],
   "source": [
    "Note:- input() function always returns a value of the String type. \n",
    "Notice that in the above script the output for both name and age, Python has enclosed the output in quotes,\n",
    "like 'Shubham' and '25', which implies that it is of String type. \n",
    "This is just because, whatever the user inputs in the input() function, it is treated as a String. \n",
    "This would mean that even if we input an integer value like 20, it will be treated like a string '19' and not an integer. \n",
    "Now, we will see how to read Numbers in the next section."
   ]
  },
  {
   "cell_type": "markdown",
   "id": "e8260235",
   "metadata": {},
   "source": [
    "#### Reading Numbers"
   ]
  },
  {
   "cell_type": "code",
   "execution_count": null,
   "id": "3d9a33bc",
   "metadata": {},
   "outputs": [],
   "source": [
    "Python offers two functions int() and float() to be used with the input() function to convert the values received through input() into the respective numeric types integer and\n",
    "floating-point numbers. The steps will be:- \n",
    "    1. Use the input() function to read the user input.\n",
    "    2. Use the int() and float() function to convert the value read into integers and floating-point numbers, respectively. \n",
    "       This process is called Type Casting."
   ]
  },
  {
   "cell_type": "code",
   "execution_count": null,
   "id": "2bfc1ba2",
   "metadata": {},
   "outputs": [],
   "source": [
    "The general way of taking Input:\n",
    "    variableRead = input(<Prompt to be displayed>)\n",
    "    updatedVariable = int(variableRead)\n",
    "    \n",
    "Here, variableRead is a String type that was read from the user. \n",
    "This string value will then be converted to Integer using the int() function and assigned to updatedVariable.\n",
    "\n",
    "This can even be shortened to a single line of code as shown below:- \n",
    "    updatedVariable = int(input(<Prompt to be displayed>))"
   ]
  },
  {
   "cell_type": "code",
   "execution_count": 3,
   "id": "4318284e",
   "metadata": {},
   "outputs": [
    {
     "name": "stdout",
     "output_type": "stream",
     "text": [
      "Enter Your Age: 25\n"
     ]
    },
    {
     "data": {
      "text/plain": [
       "25"
      ]
     },
     "execution_count": 3,
     "metadata": {},
     "output_type": "execute_result"
    }
   ],
   "source": [
    "age= int(input(\"Enter Your Age: \"))\n",
    "age"
   ]
  },
  {
   "cell_type": "code",
   "execution_count": null,
   "id": "c0d2de9b",
   "metadata": {},
   "outputs": [],
   "source": [
    "Here, the output will be 25 and not '25', i.e. the output is an Integer and not a String.\n",
    "\n",
    "Similarly, if we want to read a floating-point number, we can do the following:-"
   ]
  },
  {
   "cell_type": "code",
   "execution_count": 4,
   "id": "a5ef4803",
   "metadata": {},
   "outputs": [
    {
     "name": "stdout",
     "output_type": "stream",
     "text": [
      "Enter Your Age: 70\n"
     ]
    },
    {
     "data": {
      "text/plain": [
       "70.0"
      ]
     },
     "execution_count": 4,
     "metadata": {},
     "output_type": "execute_result"
    }
   ],
   "source": [
    "weight= float(input(\"Enter Your Age: \"))\n",
    "weight"
   ]
  },
  {
   "cell_type": "code",
   "execution_count": null,
   "id": "62162334",
   "metadata": {},
   "outputs": [],
   "source": []
  }
 ],
 "metadata": {
  "kernelspec": {
   "display_name": "Python 3 (ipykernel)",
   "language": "python",
   "name": "python3"
  },
  "language_info": {
   "codemirror_mode": {
    "name": "ipython",
    "version": 3
   },
   "file_extension": ".py",
   "mimetype": "text/x-python",
   "name": "python",
   "nbconvert_exporter": "python",
   "pygments_lexer": "ipython3",
   "version": "3.11.5"
  }
 },
 "nbformat": 4,
 "nbformat_minor": 5
}
