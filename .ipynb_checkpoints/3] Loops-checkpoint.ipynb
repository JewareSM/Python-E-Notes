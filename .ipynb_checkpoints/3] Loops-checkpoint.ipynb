{
 "cells": [
  {
   "cell_type": "markdown",
   "id": "d5c56765",
   "metadata": {},
   "source": [
    "## Introduction to While Loops"
   ]
  },
  {
   "cell_type": "code",
   "execution_count": null,
   "id": "0b2b734b",
   "metadata": {},
   "outputs": [],
   "source": [
    "The while loop is somewhat similar to an if statement, it executes the code block inside if  the expression/condition is True. \n",
    "However, as opposed to the if statement, the while loop continues to execute the code repeatedly, as long as the expression is True. \n",
    "\n",
    "In other words, a while loop iterates over a block of code. \n",
    "\n",
    "The most important part of a while loop is the looping variable. \n",
    "This looping variable controls the flow of iterations. \n",
    "An increment or decrement in this looping variable is important for the loop to function. \n",
    "\n",
    "It determines the next iteration level. \n",
    "In case of the absence of such increment/decrement, the loop gets stuck at the current iteration and continues forever until the process is manually terminated. \n",
    "\n",
    "The general syntax of a while loop shown below: \n",
    "    \n",
    "    while (Expression/Condition/Boolean): \n",
    "        <Execute this code block till the Expression is True> \n",
    "        #Increment/Decrement in looping variable \n",
    "        \n",
    "Example: \n",
    "    \n",
    "    Problem Statement: Given an Integer n, Find the Sum of first n Natural numbers.\n",
    " "
   ]
  },
  {
   "cell_type": "code",
   "execution_count": 1,
   "id": "91b37d2d",
   "metadata": {},
   "outputs": [
    {
     "name": "stdout",
     "output_type": "stream",
     "text": [
      "10\n"
     ]
    }
   ],
   "source": [
    "n = 4 \n",
    "sum = 0 \n",
    "i = 1                #Initialising the looping variable to 1  \n",
    "while(i<=n):        #The loop will continue till the value of i<number \n",
    "    sum = sum + i \n",
    "    i = i+1        #Value of i is updated at the end of every iteration \n",
    "print(sum)"
   ]
  },
  {
   "cell_type": "markdown",
   "id": "fd182518",
   "metadata": {},
   "source": [
    "#### Check Prime: Using While Loop and Nested If Statements"
   ]
  },
  {
   "cell_type": "code",
   "execution_count": null,
   "id": "079c4d64",
   "metadata": {},
   "outputs": [],
   "source": [
    "#Problem Statement: Given any Integer, check whether it is Prime or Not.  \n",
    "\n",
    "\n",
    "Approach to be followed: \n",
    "    A prime number is always positive so we are checking that at the beginning of the program. \n",
    "    Next, we are dividing the input number by all the numbers in the range of  2 to (number - 1) to see whether there are any positive divisors other than 1 and the number itself (Condition for Primality). \n",
    "    If any divisor is found then we display, “Is Prime”,  else we display,  “Is Not Prime”.\n",
    "\n",
    "Note:- We are using the break statement in the loop to come out of the loop as soon as any positive divisor is found as there is no further check required. \n",
    "The purpose of a break statement is to break out of the current iteration of the loop so that the loop stops. \n",
    "This condition is useful, as once we have found a positive divisor, we need not check for more divisors and hence we can break out of the loop. \n",
    "You will study about the break  statement in more detail in the latter part of this course. \n",
    "\n"
   ]
  },
  {
   "cell_type": "code",
   "execution_count": 4,
   "id": "ce1555e8",
   "metadata": {},
   "outputs": [
    {
     "name": "stdout",
     "output_type": "stream",
     "text": [
      "Enter any number: 25\n",
      "Is Not Prime\n"
     ]
    }
   ],
   "source": [
    "# taking input from the user \n",
    "number = int(input(\"Enter any number: \")) \n",
    "isPrime= True\n",
    "if number > 1: \n",
    "    i=2 \n",
    "    while i< number: \n",
    "        if (number % i) == 0:              # Checking for positive divisors \n",
    "            isPrime= False \n",
    "            break \n",
    "        i=i+1 \n",
    "\n",
    "if(number<=1):                       # If number is less than or equal to 1 \n",
    "    print(\"Is Not Prime\") \n",
    "elif(isPrime):                      # If Boolean is true \n",
    "    print(\"Is Prime\") \n",
    "else: \n",
    "    print(\"Is Not Prime\")"
   ]
  },
  {
   "cell_type": "markdown",
   "id": "39fd6c35",
   "metadata": {},
   "source": []
  },
  {
   "cell_type": "markdown",
   "id": "fdb5811f",
   "metadata": {},
   "source": [
    "#### Nested Loops"
   ]
  },
  {
   "cell_type": "code",
   "execution_count": null,
   "id": "8bd09d80",
   "metadata": {},
   "outputs": [],
   "source": [
    "Python programming language allows the usage of one loop inside another loop. \n",
    "The loops can be nested the same way, the conditional statements are. \n",
    "\n",
    "The general syntax of such an arrangement is: \n",
    "    \n",
    "    while(Expression1): \n",
    "        <Execute this code block till the Expression1 is True>\n",
    "    while(Expression2): \n",
    "        <Execute this code block till the Expression2 is True> \n",
    "        #Increment/Decrement in looping variable \n",
    "    #Increment/Decrement in looping variable "
   ]
  },
  {
   "cell_type": "markdown",
   "id": "a80e72c1",
   "metadata": {},
   "source": []
  },
  {
   "cell_type": "markdown",
   "id": "ffeb6fd7",
   "metadata": {},
   "source": [
    "## More On Loops"
   ]
  },
  {
   "cell_type": "markdown",
   "id": "eaf7d84e",
   "metadata": {},
   "source": [
    "### range() Function"
   ]
  },
  {
   "cell_type": "code",
   "execution_count": null,
   "id": "93e5f77d",
   "metadata": {},
   "outputs": [],
   "source": [
    "The range() function in Python generates a List which is a special sequence type. \n",
    "A sequence in Python is a succession of values bound together by a single name. \n",
    "\n",
    "The syntax of the range() function is given below: \n",
    "    range(<Lower Limit>, <Upper Limit>)            # Both limits are integers \n",
    "    \n",
    "    The function, range(L,U), will produce a list having values L, L+1, L+2....(U-1).\n",
    "\n",
    "Note:\n",
    "    The lower limit is included in the list but the upper limit is not.\n",
    "    The default step value is +1, i.e. the difference in the consecutive values of the sequence generated will be +1.\n",
    "    \n",
    "If you want to create a list with a step value other than 1, you can use the following syntax: \n",
    "    range(<Lower Limit>, <Upper Limit>, <Step Value>) \n",
    "    \n",
    "    The function, range(L, U, S), will produce a list [L, L+S, L+2S...<= (U-1)].\n",
    "        "
   ]
  },
  {
   "cell_type": "markdown",
   "id": "f8980f64",
   "metadata": {},
   "source": [
    "### in Operator "
   ]
  },
  {
   "cell_type": "code",
   "execution_count": null,
   "id": "cd8635d6",
   "metadata": {},
   "outputs": [],
   "source": [
    "The in operator tests if a given value is contained in a sequence or not and returns True or False accordingly. \n",
    "For eg."
   ]
  },
  {
   "cell_type": "code",
   "execution_count": 10,
   "id": "fb8a1b9f",
   "metadata": {},
   "outputs": [
    {
     "data": {
      "text/plain": [
       "True"
      ]
     },
     "execution_count": 10,
     "metadata": {},
     "output_type": "execute_result"
    }
   ],
   "source": [
    "3 in [1,2,3,4]"
   ]
  },
  {
   "cell_type": "code",
   "execution_count": 11,
   "id": "c9138986",
   "metadata": {},
   "outputs": [
    {
     "data": {
      "text/plain": [
       "False"
      ]
     },
     "execution_count": 11,
     "metadata": {},
     "output_type": "execute_result"
    }
   ],
   "source": [
    "\"A\" in \"BCD\""
   ]
  },
  {
   "cell_type": "markdown",
   "id": "46694666",
   "metadata": {},
   "source": []
  },
  {
   "cell_type": "markdown",
   "id": "3a4d4098",
   "metadata": {},
   "source": [
    "###  for Loop "
   ]
  },
  {
   "cell_type": "code",
   "execution_count": null,
   "id": "6780bf59",
   "metadata": {},
   "outputs": [],
   "source": [
    "The for loop of Python is designed to process the items of any sequence, such as a list or a string, one by one. \n",
    "The syntax of a for loop is :\n",
    "    \n",
    "    for<variable> in <sequence>: \n",
    "        Statements_to_be_executed \n",
    "\n",
    "For example, consider the following loop: \n",
    " "
   ]
  },
  {
   "cell_type": "code",
   "execution_count": 12,
   "id": "854a17e2",
   "metadata": {},
   "outputs": [
    {
     "name": "stdout",
     "output_type": "stream",
     "text": [
      "1\n",
      "4\n",
      "7\n"
     ]
    }
   ],
   "source": [
    "for a in [1, 4, 7]: \n",
    "    print(a) "
   ]
  },
  {
   "cell_type": "markdown",
   "id": "574f7136",
   "metadata": {},
   "source": []
  },
  {
   "cell_type": "markdown",
   "id": "0854ade4",
   "metadata": {},
   "source": [
    "#### Check Prime: Using For Loop "
   ]
  },
  {
   "cell_type": "code",
   "execution_count": null,
   "id": "5f602608",
   "metadata": {},
   "outputs": [],
   "source": [
    "Problem Statement: Given any Integer, check whether it is Prime or Not.  \n",
    "    \n",
    "    Approach to be followed:  \n",
    "        ● A prime number is always positive so we are checking that at the beginning of the program.  \n",
    "        ● Next, we are dividing the input number by all the numbers in the range of  2 to (number - 1) to see whether there are any positive divisors other than 1 and the number itself (Condition for Primality).  \n",
    "        ● If any divisor is found then we display, “Is Prime”, else we display, “Is Not Prime”. \n",
    "    "
   ]
  },
  {
   "cell_type": "code",
   "execution_count": 13,
   "id": "1d92e6b2",
   "metadata": {},
   "outputs": [
    {
     "name": "stdout",
     "output_type": "stream",
     "text": [
      "Enter any number: 47\n",
      "Is Prime\n"
     ]
    }
   ],
   "source": [
    "# taking input from the user\n",
    "number = int(input(\"Enter any number: \"))\n",
    "\n",
    "isPrime= True\n",
    "if number > 1:                       # prime number is always greater than 1\n",
    "    for i in range(2, number):\n",
    "        if (number % i) == 0:       # Checking for positive divisors\n",
    "            isPrime= False\n",
    "            break\n",
    "            \n",
    "            \n",
    "if(number<=1):                     # If the number is less than or equal to 1\n",
    "    print(\"Is Not Prime\")\n",
    "elif(isPrime):\n",
    "    print(\"Is Prime\")\n",
    "else:\n",
    "    print(\"Is Not Prime\")"
   ]
  },
  {
   "cell_type": "markdown",
   "id": "61575757",
   "metadata": {},
   "source": []
  },
  {
   "cell_type": "markdown",
   "id": "f2a373ad",
   "metadata": {},
   "source": [
    "## Jump Statements: break and continue"
   ]
  },
  {
   "cell_type": "code",
   "execution_count": null,
   "id": "b62f67a4",
   "metadata": {},
   "outputs": [],
   "source": [
    "Python offers two jump statements (within loops) to jump out of the loop iterations.\n",
    "These are break and continue statements. \n",
    "\n",
    "Let us see how these statements work."
   ]
  },
  {
   "cell_type": "markdown",
   "id": "01fb2f69",
   "metadata": {},
   "source": [
    "#### break Statement"
   ]
  },
  {
   "cell_type": "code",
   "execution_count": null,
   "id": "b857f509",
   "metadata": {},
   "outputs": [],
   "source": [
    "The break statement enables a program to skip over a part of the code. \n",
    "A break statement terminates the very loop it lies within.\n",
    "The working of a break statement is as follows:\n",
    "    \n",
    "    while <Expression/Condition/Statement>:\n",
    "        #Statement1\n",
    "        if <condition1>:\n",
    "            break #If “condition” is true, then code breaks out\n",
    "            #Statement2\n",
    "            #Statement3\n",
    "#Statement4: This statement is executed if it breaks out of the loop\n",
    "#Statement5\n",
    "\n",
    "\n",
    "\n",
    "Note: This loop can terminate in 2 ways:\n",
    "        1. Throughout the iterations of the loop, if condition1 remains false, the loop will go through its normal course of execution and stops when its\n",
    "           condition/expression becomes false.\n",
    "        2. If during any iteration, condition1 becomes true, the flow of execution will break out of the loop and the loop will terminate.\n",
    "        \n",
    "The following code fragment shows you an example of the break statement:"
   ]
  },
  {
   "cell_type": "code",
   "execution_count": 14,
   "id": "2acdc704",
   "metadata": {},
   "outputs": [
    {
     "name": "stdout",
     "output_type": "stream",
     "text": [
      "s\n",
      "t\n",
      "r\n",
      "The end\n"
     ]
    }
   ],
   "source": [
    "for val in \"string\":\n",
    "    if val == \"i\":        #Here, as soon as the value of val becomes equal to \"i\", the loop terminates.\n",
    "        break\n",
    "    print(val)\n",
    "print(\"The end\")"
   ]
  },
  {
   "cell_type": "markdown",
   "id": "43b8d750",
   "metadata": {},
   "source": []
  },
  {
   "cell_type": "markdown",
   "id": "ee14578f",
   "metadata": {},
   "source": [
    "#### continue Statement"
   ]
  },
  {
   "cell_type": "code",
   "execution_count": null,
   "id": "959625ce",
   "metadata": {},
   "outputs": [],
   "source": [
    "The continue statement jumps out of the current iteration and forces the next iteration of the loop to take place.\n",
    "The working of a continue statement is as follows:\n",
    "    \n",
    "    while <Expression/Condition/Statement>:\n",
    "        #Statement1\n",
    "        if <condition1>:\n",
    "            continue\n",
    "            #Statement2\n",
    "            #Statement3\n",
    "            \n",
    "#Statement4: This statement is executed if it breaks out of the loop\n",
    "#Statement5\n",
    "\n",
    "\n",
    "In the given code snippet, if condition1 is true, the continue statement will cause the skipping of Statement2 and Statement3 in the current iteration, and the next iteration will start.\n",
    "The following code fragment shows you an example of the continue statement:\n",
    "    \n",
    "    \n"
   ]
  },
  {
   "cell_type": "code",
   "execution_count": 17,
   "id": "18641568",
   "metadata": {},
   "outputs": [
    {
     "name": "stdout",
     "output_type": "stream",
     "text": [
      "s\n",
      "t\n",
      "r\n",
      "n\n",
      "g\n",
      "The end\n"
     ]
    }
   ],
   "source": [
    "for val in \"string\":\n",
    "    if val == \"i\":\n",
    "        continue\n",
    "    print(val)\n",
    "print(\"The end\")  #Here, the iteration with val = \"i\", gets skipped and hence \"i\" is not printed."
   ]
  },
  {
   "cell_type": "markdown",
   "id": "72db5053",
   "metadata": {},
   "source": []
  },
  {
   "cell_type": "markdown",
   "id": "698d2fcd",
   "metadata": {},
   "source": [
    "#### pass Statement"
   ]
  },
  {
   "cell_type": "code",
   "execution_count": null,
   "id": "68d14e3e",
   "metadata": {},
   "outputs": [],
   "source": [
    "The pass statement is a null statement.\n",
    "● It is generally used as a placeholder for future code i.e. in cases where you want to implement some part of your code in the future but you cannot leave the space blank as it will give a compilation error.\n",
    "● Sometimes, pass is used when the user does not want any code to execute.\n",
    "● Using the pass statement in loops, functions, class definitions, and if statements, is very useful as empty code blocks are not allowed in these.\n",
    "\n",
    "The syntax of a pass statement is:\n",
    "pass\n",
    "\n",
    "\n",
    "Given below is a basic implementation of a conditional using a pass statement:"
   ]
  },
  {
   "cell_type": "code",
   "execution_count": 20,
   "id": "5afe625d",
   "metadata": {},
   "outputs": [
    {
     "ename": "SyntaxError",
     "evalue": "unterminated string literal (detected at line 5) (3364216302.py, line 5)",
     "output_type": "error",
     "traceback": [
      "\u001b[1;36m  Cell \u001b[1;32mIn[20], line 5\u001b[1;36m\u001b[0m\n\u001b[1;33m    print(\"Executed”)\u001b[0m\n\u001b[1;37m          ^\u001b[0m\n\u001b[1;31mSyntaxError\u001b[0m\u001b[1;31m:\u001b[0m unterminated string literal (detected at line 5)\n"
     ]
    }
   ],
   "source": [
    "n=2\n",
    "if n==2:\n",
    "    pass #Pass statement: Nothing will happen\n",
    "else:\n",
    "    print(\"Executed”)"
   ]
  },
  {
   "cell_type": "code",
   "execution_count": null,
   "id": "0af515d3",
   "metadata": {},
   "outputs": [],
   "source": [
    "In the above code, the if statement condition is satisfied because n==2 is True.\n",
    "Thus there will be no output for the above code because once it enters the if statement block, there is a pass statement. \n",
    "Also, no compilation error will be produced.\n",
    "\n",
    "\n",
    "Consider another example:\n",
    "    "
   ]
  },
  {
   "cell_type": "code",
   "execution_count": 21,
   "id": "6d0f28c6",
   "metadata": {},
   "outputs": [],
   "source": [
    "n=1\n",
    "if n==2:\n",
    "    print (\"Executed\")\n",
    "else:\n",
    "    pass             #Pass statement: Nothing will happen\n",
    "\n"
   ]
  },
  {
   "cell_type": "code",
   "execution_count": null,
   "id": "489213d4",
   "metadata": {},
   "outputs": [],
   "source": [
    "In the above code, the if statement condition is not satisfied because n==2 is False. \n",
    "Thus there will be no output for the above code because it enters the else statement block and encounters the pass statement.\n",
    "\n"
   ]
  }
 ],
 "metadata": {
  "kernelspec": {
   "display_name": "Python 3 (ipykernel)",
   "language": "python",
   "name": "python3"
  },
  "language_info": {
   "codemirror_mode": {
    "name": "ipython",
    "version": 3
   },
   "file_extension": ".py",
   "mimetype": "text/x-python",
   "name": "python",
   "nbconvert_exporter": "python",
   "pygments_lexer": "ipython3",
   "version": "3.11.5"
  }
 },
 "nbformat": 4,
 "nbformat_minor": 5
}
